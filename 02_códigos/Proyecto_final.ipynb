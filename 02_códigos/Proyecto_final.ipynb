{
 "cells": [
  {
   "cell_type": "markdown",
   "metadata": {},
   "source": [
    "## Ciencia de datos: Proyecto final\n",
    "#### Análisis de tuits (buscar título más adecuado)\n",
    "Regina Isabel Medina Rosales"
   ]
  },
  {
   "cell_type": "markdown",
   "metadata": {},
   "source": [
    "**Contexto del problema**\n",
    "\n",
    "Los espacios digitales, como la internet, se han convertidos en nuevos espacios de convivencia. Esto ha generado tipos de interacciones imprecedentes que imitan los patrones de las interacciones *offline*, pero con una nueva magnitud.  \n",
    "\n",
    "Un ejemplo es la violencia de género y política *online*. Las redes sociales, como *Twitter*, permiten que cualquier usuario agreda a una persona por cuestiones de género. "
   ]
  },
  {
   "cell_type": "markdown",
   "metadata": {},
   "source": [
    "**Pregunta de investigación**\n",
    "- ¿Las mujeres enfrentan agresiones distintas a los hombres en línea? \n",
    "    - Cantidad: ¿Los *tweets* dirigidos a mujeres que desempeñan labores políticas contienen más palabras agresivas? \n",
    "    - Cualidad: ¿Los *tweets* dirigidos a mujeres en la política usan palabras distintas a aquellas dirigidas a los hombres?"
   ]
  },
  {
   "cell_type": "markdown",
   "metadata": {},
   "source": [
    "**Metodología**\n",
    "\n",
    "*Muestra*\n",
    "\n",
    "Con ayuda de la Dra. Daniela Moctezuma, se recolectaron *tuits* de diversos usuarios que interactuaron con alguna personalidad de la política mexicana. Dichas personalidades son: \n",
    "- Hombres\n",
    "    - Lucía Riojas: Diputada federal independiente\n",
    "- Mujeres"
   ]
  },
  {
   "cell_type": "markdown",
   "metadata": {},
   "source": [
    "**Código**"
   ]
  },
  {
   "cell_type": "markdown",
   "metadata": {},
   "source": [
    "**Resultados**"
   ]
  },
  {
   "cell_type": "markdown",
   "metadata": {},
   "source": [
    "**Conclusiones**"
   ]
  },
  {
   "cell_type": "markdown",
   "metadata": {},
   "source": [
    "**Observaciones**\n",
    "- Retuits textuales (\"RT\")\n",
    "- Tuits repetidos\n",
    "- Tuits que arroban a varias cuentas para llamar la atención sin ser un mensaje dirigido en particular a ninguna persona\n",
    "- Mi clasificación de \"agresivo\" es cuando son ataques pesonales o con vocabulario soez, exluyo críticas y cuestionamientos a las políticas por más duras que sean.\n",
    "- \"Mentar la madre\": es una ofensa misógina, pero la misogina no va dirigida hacia la persona directamente atacada.\n",
    "- Ageism\n",
    "- Cuentas suspendidas\n",
    "- Cuentas que atacan la masculindad: Sin huevos, chinguen a su madre, no sean putos\n",
    "- Muchos tuits sobre José José, caso de Karen Espinoza\n",
    "- Excluí temas de género (como orientación y expresión de género), me limité a alusiones hacia la feminidad. ¿Qué hacer cuando la ofensa es decir *putos*? No lo contabilicé\n",
    "- ¿Decir *chairo* es agresivo?\n",
    "- ¿Qué hacer con los comentarios irónicos que no usan groserías?\n",
    "- ¿Llamar inepto al gobierno es agresivo o una crítica legítima?\n",
    "- ¿El doña y el señora se usan de manera condescendiente?\n",
    "- **Hallazgo**: a las mujeres mayores no se les sexualiza, pero sí se les reduce al rol de abuelas.\n",
    "- ¿Será necesario tener categorías independientes de sarcasmo y aprecio?"
   ]
  },
  {
   "cell_type": "code",
   "execution_count": null,
   "metadata": {},
   "outputs": [],
   "source": []
  }
 ],
 "metadata": {
  "kernelspec": {
   "display_name": "Python 3",
   "language": "python",
   "name": "python3"
  },
  "language_info": {
   "codemirror_mode": {
    "name": "ipython",
    "version": 3
   },
   "file_extension": ".py",
   "mimetype": "text/x-python",
   "name": "python",
   "nbconvert_exporter": "python",
   "pygments_lexer": "ipython3",
   "version": "3.7.4"
  }
 },
 "nbformat": 4,
 "nbformat_minor": 4
}
