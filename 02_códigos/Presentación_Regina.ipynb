{
 "cells": [
  {
   "cell_type": "markdown",
   "metadata": {
    "slideshow": {
     "slide_type": "slide"
    }
   },
   "source": [
    "## Ciencia de datos: Proyecto final\n",
    "#### Violencia digital y de género contra personas de la política en Tuiter México\n",
    "Regina Isabel Medina Rosales"
   ]
  },
  {
   "cell_type": "markdown",
   "metadata": {
    "slideshow": {
     "slide_type": "slide"
    }
   },
   "source": [
    "#### Contexto del problema\n",
    "\n",
    "Los espacios digitales, como la internet, se han convertidos en nuevos espacios de convivencia. Esto ha generado tipos de interacciones imprecedentes que imitan los patrones de las interacciones *offline*, pero con una nueva magnitud.  \n",
    "\n",
    "Un ejemplo es la violencia de género y política *online*. Las redes sociales, como *Twitter*, permiten que cualquier usuario agreda a una persona por cuestiones de género. "
   ]
  },
  {
   "cell_type": "markdown",
   "metadata": {
    "slideshow": {
     "slide_type": "slide"
    }
   },
   "source": [
    "#### Pregunta de investigación\n",
    "- ¿Las mujeres enfrentan agresiones distintas a los hombres en línea? \n",
    "    - Cantidad: ¿Los *tweets* dirigidos a mujeres que desempeñan labores políticas contienen más palabras agresivas? \n",
    "    - Cualidad: ¿Los *tweets* dirigidos a mujeres en la política usan palabras distintas a aquellas dirigidas a los hombres?"
   ]
  },
  {
   "cell_type": "markdown",
   "metadata": {
    "slideshow": {
     "slide_type": "slide"
    }
   },
   "source": [
    "#### Metodología \n",
    "1. Recolección de tuits (n = 27588)\n",
    "2. Construcción de base unificada\n",
    "3. Selección muestral aleatoria (n = 5520) \n",
    "4. Clasificación manual\n",
    "    - agresivos \n",
    "    - no agresivos\n",
    "5. División de la muestra \n",
    "    - datos de entrenamiento\n",
    "    - datos de prueba\n",
    "6. Preprocesamiento de texto \n",
    "    - Manejo de arrobas, hashtagas y emojis\n",
    "7. Entrenamiento y prueba de algoritmo"
   ]
  },
  {
   "cell_type": "markdown",
   "metadata": {
    "slideshow": {
     "slide_type": "slide"
    }
   },
   "source": [
    "#### Muestra\n",
    "Con ayuda de la Dra. Daniela Moctezuma, se recolectaron *tuits* de diversos usuarios que interactuaron con alguna personalidad de la política mexicana. Dichas personalidades son: \n",
    "- Mujeres\n",
    "    - *Lucía Riojas*: Diputada federal independiente\n",
    "    - *Olga Sánchez Cordero*: Secretaria de Gobierno \n",
    "    - *Martha Lucía Micher*: Senadora\n",
    "    - *Elsa Amabel Landín*: Diputada local de Aguascalientes\n",
    "        \n",
    "- Hombres\n",
    "    - *Marcelo Ebrard*: Secretario de Relaciones \n",
    "    - *Víctor Villalobos Arámbula*: Secretario de Agricultura\n",
    "    - *Aníbal Ostoa Ortega*: Senador\n",
    "    - *Guillermo Alaniz*: Diputado local de Aguascalientes\n",
    "        "
   ]
  },
  {
   "cell_type": "markdown",
   "metadata": {
    "slideshow": {
     "slide_type": "slide"
    }
   },
   "source": [
    "#### Código: Paquetería"
   ]
  },
  {
   "cell_type": "code",
   "execution_count": 2,
   "metadata": {
    "slideshow": {
     "slide_type": "subslide"
    }
   },
   "outputs": [],
   "source": [
    "# Cargar paquetería necesaria \n",
    "import pandas as pd\n",
    "import numpy as np\n",
    "import seaborn as sns\n",
    "import preprocessor as p\n",
    "\n",
    "from openpyxl import Workbook\n",
    "import matplotlib.pyplot as plt\n",
    "import microtc as microtc\n",
    "from microtc.textmodel import TextModel\n",
    "from sklearn.metrics import f1_score, accuracy_score\n",
    "from sklearn.svm import LinearSVC"
   ]
  },
  {
   "cell_type": "markdown",
   "metadata": {
    "slideshow": {
     "slide_type": "slide"
    }
   },
   "source": [
    "Código: Limpieza de bases de datos"
   ]
  },
  {
   "cell_type": "code",
   "execution_count": 3,
   "metadata": {
    "slideshow": {
     "slide_type": "subslide"
    }
   },
   "outputs": [],
   "source": [
    "# Importar datos\n",
    "tuits_1 = pd.read_json(\"tuits001.txt\", lines = True) # @Mary_Luisa_AG  \n",
    "tuits_2 = pd.read_json(\"tuits002.txt\", lines = True) # @LuRiojas\n",
    "tuits_3 = pd.read_json(\"tuits003.txt\", lines = True) # @vmva1950\n",
    "tuits_4 = pd.read_json(\"tuits004.txt\", lines = True) # @aostoaortega\n",
    "tuits_5 = pd.read_json(\"tuits005.txt\", lines = True) # @mariamercedg\n",
    "tuits_6 = pd.read_json(\"tuits006.txt\", lines = True) # @M_OlgaSCordero\n",
    "tuits_7 = pd.read_json(\"tuits007.txt\", lines = True) # @m_ebrard\n",
    "tuits_8 = pd.read_json(\"tuits008.txt\", lines = True) # @galaniz\n",
    "tuits_9 = pd.read_json(\"tuits009.txt\", lines = True) # @elsaamabel"
   ]
  },
  {
   "cell_type": "code",
   "execution_count": 4,
   "metadata": {
    "slideshow": {
     "slide_type": "subslide"
    }
   },
   "outputs": [],
   "source": [
    "# Añadir etiqueta de nombre de la personalidad\n",
    "tuits_1['name'] = \"María Luisa Albores\"\n",
    "tuits_2['name'] = \"Lucía Riojas\"\n",
    "tuits_3['name'] = \"Víctor Villalobos Arámbula \"\n",
    "tuits_4['name'] = \"Aníbal Ostoa Ortega \"\n",
    "tuits_5['name'] = \"María Merced González \"\n",
    "tuits_6['name'] = \"Olga Sánchez Cordero\"\n",
    "tuits_7['name'] = \"Marcelo Ebrard\"\n",
    "tuits_8['name'] = \"Guillermo Alaniz\"\n",
    "tuits_9['name'] = \"Elsa Amabel Landín\"\n"
   ]
  },
  {
   "cell_type": "code",
   "execution_count": 5,
   "metadata": {},
   "outputs": [],
   "source": [
    "# Añadir etiqueta del género de la personalidad\n",
    "tuits_1['gender'] = \"female\"\n",
    "tuits_2['gender'] = \"female\"\n",
    "tuits_3['gender'] = \"male\"\n",
    "tuits_4['gender'] = \"male\"\n",
    "tuits_5['gender'] = \"female\"\n",
    "tuits_6['gender'] = \"female\"\n",
    "tuits_7['gender'] = \"male\"\n",
    "tuits_8['gender'] = \"male\"\n",
    "tuits_9['gender'] = \"female\"\n"
   ]
  },
  {
   "cell_type": "code",
   "execution_count": 6,
   "metadata": {},
   "outputs": [],
   "source": [
    "# Añadir etiqueta de nivel o poder de goberino  \n",
    "tuits_1['office'] = \"executive\"\n",
    "tuits_2['office'] = \"congress\"\n",
    "tuits_3['office'] = \"executive\"\n",
    "tuits_4['office'] = \"senate\"\n",
    "tuits_5['office'] = \"senate\"\n",
    "tuits_6['office'] = \"executive\"\n",
    "tuits_7['office'] = \"executive\"\n",
    "tuits_8['office'] = \"local\"\n",
    "tuits_9['office'] = \"local\""
   ]
  },
  {
   "cell_type": "code",
   "execution_count": 7,
   "metadata": {
    "slideshow": {
     "slide_type": "subslide"
    }
   },
   "outputs": [],
   "source": [
    "# Unir bases de datos\n",
    "tuits = pd.concat([tuits_1, tuits_2, tuits_3, tuits_4, tuits_5, tuits_6, tuits_7, tuits_8, tuits_9])\n",
    "\n",
    "tuits['name'] = tuits['name'].astype('category') # Categorizar personas\n",
    "tuits['gender'] = tuits['gender'].astype('category') # Categorizar género\n",
    "tuits['office'] = tuits['office'].astype('category') # Categorizar nivel de gobierno"
   ]
  },
  {
   "cell_type": "markdown",
   "metadata": {
    "slideshow": {
     "slide_type": "slide"
    }
   },
   "source": [
    "#### Naturaleza de los datos"
   ]
  },
  {
   "cell_type": "code",
   "execution_count": 8,
   "metadata": {
    "slideshow": {
     "slide_type": "subslide"
    }
   },
   "outputs": [
    {
     "data": {
      "text/html": [
       "<div>\n",
       "<style scoped>\n",
       "    .dataframe tbody tr th:only-of-type {\n",
       "        vertical-align: middle;\n",
       "    }\n",
       "\n",
       "    .dataframe tbody tr th {\n",
       "        vertical-align: top;\n",
       "    }\n",
       "\n",
       "    .dataframe thead th {\n",
       "        text-align: right;\n",
       "    }\n",
       "</style>\n",
       "<table border=\"1\" class=\"dataframe\">\n",
       "  <thead>\n",
       "    <tr style=\"text-align: right;\">\n",
       "      <th></th>\n",
       "      <th>text</th>\n",
       "      <th>gender</th>\n",
       "      <th>percentage</th>\n",
       "    </tr>\n",
       "    <tr>\n",
       "      <th>gender</th>\n",
       "      <th></th>\n",
       "      <th></th>\n",
       "      <th></th>\n",
       "    </tr>\n",
       "  </thead>\n",
       "  <tbody>\n",
       "    <tr>\n",
       "      <th>female</th>\n",
       "      <td>14854</td>\n",
       "      <td>female</td>\n",
       "      <td>53.8</td>\n",
       "    </tr>\n",
       "    <tr>\n",
       "      <th>male</th>\n",
       "      <td>12734</td>\n",
       "      <td>male</td>\n",
       "      <td>46.2</td>\n",
       "    </tr>\n",
       "  </tbody>\n",
       "</table>\n",
       "</div>"
      ],
      "text/plain": [
       "         text  gender  percentage\n",
       "gender                           \n",
       "female  14854  female        53.8\n",
       "male    12734    male        46.2"
      ]
     },
     "execution_count": 8,
     "metadata": {},
     "output_type": "execute_result"
    }
   ],
   "source": [
    "# Gráficas descriptivas: género \n",
    "#Transformación de los datos\n",
    "gender_tuits = pd.DataFrame({'text' : tuits.groupby('gender')['text'].count()})\n",
    "gender_tuits['gender'] = gender_tuits.index\n",
    "gender_tuits['percentage'] = round((gender_tuits['text']/sum(gender_tuits['text']))*100, 1)\n",
    "gender_tuits\n"
   ]
  },
  {
   "cell_type": "code",
   "execution_count": 10,
   "metadata": {
    "slideshow": {
     "slide_type": "subslide"
    }
   },
   "outputs": [
    {
     "data": {
      "text/plain": [
       "Text(0.9, 13000, '46.2%')"
      ]
     },
     "execution_count": 10,
     "metadata": {},
     "output_type": "execute_result"
    },
    {
     "data": {
      "image/png": "[encoded data removed]",
      "text/plain": [
       "<Figure size 432x288 with 1 Axes>"
      ]
     },
     "metadata": {
      "needs_background": "light"
     },
     "output_type": "display_data"
    }
   ],
   "source": [
    "# Construcción de la gráfica: género\n",
    "sequential_colors = sns.color_palette(\"RdPu\", 2)\n",
    "sns.set_palette(sequential_colors)\n",
    "#sns.set_palette('Paired')\n",
    "gender_plot = sns.barplot(x = 'gender', y ='text', data = gender_tuits)\n",
    "gender_plot.set(xlabel='Género', ylabel='Número de tuits recopilados', title = \"Distribución de tuits por género\")\n",
    "gender_plot.text(x = -0.1, y = 15000, s = \"53.8%\")\n",
    "gender_plot.text(x = 0.9, y = 13000, s = \"46.2%\")"
   ]
  },
  {
   "cell_type": "code",
   "execution_count": 11,
   "metadata": {
    "slideshow": {
     "slide_type": "slide"
    }
   },
   "outputs": [
    {
     "data": {
      "text/html": [
       "<div>\n",
       "<style scoped>\n",
       "    .dataframe tbody tr th:only-of-type {\n",
       "        vertical-align: middle;\n",
       "    }\n",
       "\n",
       "    .dataframe tbody tr th {\n",
       "        vertical-align: top;\n",
       "    }\n",
       "\n",
       "    .dataframe thead th {\n",
       "        text-align: right;\n",
       "    }\n",
       "</style>\n",
       "<table border=\"1\" class=\"dataframe\">\n",
       "  <thead>\n",
       "    <tr style=\"text-align: right;\">\n",
       "      <th></th>\n",
       "      <th>text</th>\n",
       "      <th>office</th>\n",
       "      <th>percentage</th>\n",
       "    </tr>\n",
       "    <tr>\n",
       "      <th>office</th>\n",
       "      <th></th>\n",
       "      <th></th>\n",
       "      <th></th>\n",
       "    </tr>\n",
       "  </thead>\n",
       "  <tbody>\n",
       "    <tr>\n",
       "      <th>congress</th>\n",
       "      <td>908</td>\n",
       "      <td>congress</td>\n",
       "      <td>3.3</td>\n",
       "    </tr>\n",
       "    <tr>\n",
       "      <th>executive</th>\n",
       "      <td>26560</td>\n",
       "      <td>executive</td>\n",
       "      <td>96.3</td>\n",
       "    </tr>\n",
       "    <tr>\n",
       "      <th>local</th>\n",
       "      <td>18</td>\n",
       "      <td>local</td>\n",
       "      <td>0.1</td>\n",
       "    </tr>\n",
       "    <tr>\n",
       "      <th>senate</th>\n",
       "      <td>102</td>\n",
       "      <td>senate</td>\n",
       "      <td>0.4</td>\n",
       "    </tr>\n",
       "  </tbody>\n",
       "</table>\n",
       "</div>"
      ],
      "text/plain": [
       "            text     office  percentage\n",
       "office                                 \n",
       "congress     908   congress         3.3\n",
       "executive  26560  executive        96.3\n",
       "local         18      local         0.1\n",
       "senate       102     senate         0.4"
      ]
     },
     "execution_count": 11,
     "metadata": {},
     "output_type": "execute_result"
    }
   ],
   "source": [
    "# Gráficas descriptivas: nivel de gobierno \n",
    "#Transformación de los datos\n",
    "office_tuits = pd.DataFrame({'text' : tuits.groupby('office')['text'].count()})\n",
    "office_tuits['office'] = office_tuits.index\n",
    "office_tuits['percentage'] = round((office_tuits['text']/sum(office_tuits['text']))*100, 1)\n",
    "office_tuits"
   ]
  },
  {
   "cell_type": "code",
   "execution_count": 12,
   "metadata": {
    "slideshow": {
     "slide_type": "subslide"
    }
   },
   "outputs": [
    {
     "data": {
      "text/plain": [
       "Text(2.9, 300, '0.4%')"
      ]
     },
     "execution_count": 12,
     "metadata": {},
     "output_type": "execute_result"
    },
    {
     "data": {
      "image/png": "[encoded data removed]",
      "text/plain": [
       "<Figure size 432x288 with 1 Axes>"
      ]
     },
     "metadata": {
      "needs_background": "light"
     },
     "output_type": "display_data"
    }
   ],
   "source": [
    "# Contrucción de la gráfica: nivel de gobierno\n",
    "sequential_colors = sns.color_palette(\"RdPu\", 2)\n",
    "sns.set_palette(sequential_colors)\n",
    "office_plot = sns.barplot(x = 'office', y ='text', data = office_tuits)\n",
    "office_plot.set(xlabel='Nivel de gobierno', ylabel='Número de tuits recopilados', title = \"Distribución de tuits por tipo de cargo\")\n",
    "# Etiquetas de porcentajes \n",
    "office_plot.text(x = -0.1, y = 1100, s = \"3.3%\")\n",
    "office_plot.text(x = 0.8, y = 26700, s = \"96.3%\")\n",
    "office_plot.text(x = 1.9, y = 300, s = \"0.1%\")\n",
    "office_plot.text(x = 2.9, y = 300, s = \"0.4%\")"
   ]
  },
  {
   "cell_type": "code",
   "execution_count": 13,
   "metadata": {
    "slideshow": {
     "slide_type": "subslide"
    }
   },
   "outputs": [
    {
     "data": {
      "text/html": [
       "<div>\n",
       "<style scoped>\n",
       "    .dataframe tbody tr th:only-of-type {\n",
       "        vertical-align: middle;\n",
       "    }\n",
       "\n",
       "    .dataframe tbody tr th {\n",
       "        vertical-align: top;\n",
       "    }\n",
       "\n",
       "    .dataframe thead th {\n",
       "        text-align: right;\n",
       "    }\n",
       "</style>\n",
       "<table border=\"1\" class=\"dataframe\">\n",
       "  <thead>\n",
       "    <tr style=\"text-align: right;\">\n",
       "      <th></th>\n",
       "      <th>text</th>\n",
       "      <th>name</th>\n",
       "      <th>percentage</th>\n",
       "    </tr>\n",
       "    <tr>\n",
       "      <th>name</th>\n",
       "      <th></th>\n",
       "      <th></th>\n",
       "      <th></th>\n",
       "    </tr>\n",
       "  </thead>\n",
       "  <tbody>\n",
       "    <tr>\n",
       "      <th>Aníbal Ostoa Ortega</th>\n",
       "      <td>92</td>\n",
       "      <td>Aníbal Ostoa Ortega</td>\n",
       "      <td>0.3</td>\n",
       "    </tr>\n",
       "    <tr>\n",
       "      <th>Elsa Amabel Landín</th>\n",
       "      <td>14</td>\n",
       "      <td>Elsa Amabel Landín</td>\n",
       "      <td>0.1</td>\n",
       "    </tr>\n",
       "    <tr>\n",
       "      <th>Guillermo Alaniz</th>\n",
       "      <td>4</td>\n",
       "      <td>Guillermo Alaniz</td>\n",
       "      <td>0.0</td>\n",
       "    </tr>\n",
       "    <tr>\n",
       "      <th>Lucía Riojas</th>\n",
       "      <td>908</td>\n",
       "      <td>Lucía Riojas</td>\n",
       "      <td>3.3</td>\n",
       "    </tr>\n",
       "    <tr>\n",
       "      <th>Marcelo Ebrard</th>\n",
       "      <td>12174</td>\n",
       "      <td>Marcelo Ebrard</td>\n",
       "      <td>44.1</td>\n",
       "    </tr>\n",
       "    <tr>\n",
       "      <th>María Luisa Albores</th>\n",
       "      <td>1</td>\n",
       "      <td>María Luisa Albores</td>\n",
       "      <td>0.0</td>\n",
       "    </tr>\n",
       "    <tr>\n",
       "      <th>María Merced González</th>\n",
       "      <td>10</td>\n",
       "      <td>María Merced González</td>\n",
       "      <td>0.0</td>\n",
       "    </tr>\n",
       "    <tr>\n",
       "      <th>Olga Sánchez Cordero</th>\n",
       "      <td>13921</td>\n",
       "      <td>Olga Sánchez Cordero</td>\n",
       "      <td>50.5</td>\n",
       "    </tr>\n",
       "    <tr>\n",
       "      <th>Víctor Villalobos Arámbula</th>\n",
       "      <td>464</td>\n",
       "      <td>Víctor Villalobos Arámbula</td>\n",
       "      <td>1.7</td>\n",
       "    </tr>\n",
       "  </tbody>\n",
       "</table>\n",
       "</div>"
      ],
      "text/plain": [
       "                              text                         name  percentage\n",
       "name                                                                       \n",
       "Aníbal Ostoa Ortega             92         Aníbal Ostoa Ortega          0.3\n",
       "Elsa Amabel Landín              14           Elsa Amabel Landín         0.1\n",
       "Guillermo Alaniz                 4             Guillermo Alaniz         0.0\n",
       "Lucía Riojas                   908                 Lucía Riojas         3.3\n",
       "Marcelo Ebrard               12174               Marcelo Ebrard        44.1\n",
       "María Luisa Albores              1          María Luisa Albores         0.0\n",
       "María Merced González           10       María Merced González          0.0\n",
       "Olga Sánchez Cordero         13921         Olga Sánchez Cordero        50.5\n",
       "Víctor Villalobos Arámbula     464  Víctor Villalobos Arámbula          1.7"
      ]
     },
     "execution_count": 13,
     "metadata": {},
     "output_type": "execute_result"
    }
   ],
   "source": [
    "# Estadísticas descriptivas: personas \n",
    "#Transformación de los datos\n",
    "name_tuits = pd.DataFrame({'text' : tuits.groupby('name')['text'].count()})\n",
    "name_tuits['name'] = name_tuits.index\n",
    "name_tuits['percentage'] = round((name_tuits['text']/sum(name_tuits['text']))*100, 1)\n",
    "name_tuits"
   ]
  },
  {
   "cell_type": "markdown",
   "metadata": {
    "slideshow": {
     "slide_type": "slide"
    }
   },
   "source": [
    "#### Código: etiquetado\n",
    "Se seleccionó una muestra aleatoria del 20% de los datos proporcionados por la Dra. Moctezuma. Es decir que 5520 tuits fueron clasificados de manera manual en dos categorías. \n",
    "1. Agresivo y neutral \n",
    "2. Vinculado al género (misógino) o no vinculado "
   ]
  },
  {
   "cell_type": "code",
   "execution_count": 14,
   "metadata": {
    "slideshow": {
     "slide_type": "subslide"
    }
   },
   "outputs": [
    {
     "data": {
      "text/plain": [
       "(5520, 40)"
      ]
     },
     "execution_count": 14,
     "metadata": {},
     "output_type": "execute_result"
    }
   ],
   "source": [
    "# Seleccionar muestra para etiquetar\n",
    "tuits_sample = tuits.sample(5520)\n",
    "tuits_sample.to_csv(\"tuits_train.csv\", encoding = 'utf-8')\n",
    "\n",
    "# Todos los tuits de esta selección aleatoria serán clasificados manualmente\n",
    "tuits_sample.shape"
   ]
  },
  {
   "cell_type": "markdown",
   "metadata": {
    "slideshow": {
     "slide_type": "slide"
    }
   },
   "source": [
    "#### Código: procesamiento de los datos etiquetados"
   ]
  },
  {
   "cell_type": "code",
   "execution_count": 16,
   "metadata": {
    "slideshow": {
     "slide_type": "subslide"
    }
   },
   "outputs": [],
   "source": [
    "# Cargamos los datos etiquetados \n",
    "tuits_labeled = pd.read_csv(\"tuits_labeled.csv\", encoding = \"latin\")\n",
    "\n",
    "# Seleccionamos variables de interés\n",
    "tuits_labeled = tuits_labeled[['text', 'class', 'gendered', 'name', 'gender', 'office']]"
   ]
  },
  {
   "cell_type": "code",
   "execution_count": 17,
   "metadata": {
    "slideshow": {
     "slide_type": "subslide"
    }
   },
   "outputs": [],
   "source": [
    "# Cambiamos las variables a variables categóricas\n",
    "tuits_labeled['name'] = tuits_labeled['name'].astype('category') # Categorizar personas\n",
    "tuits_labeled['gender'] = tuits_labeled['gender'].astype('category') # Categorizar género\n",
    "tuits_labeled['office'] = tuits_labeled['office'].astype('category') # Categorizar nivel de gobierno\n",
    "tuits_labeled['class'] = tuits_labeled['class'].astype('category') # Categorizar personas\n",
    "tuits_labeled['gendered'] = tuits_labeled['gendered'].astype('category') # Categorizar personas"
   ]
  },
  {
   "cell_type": "code",
   "execution_count": 18,
   "metadata": {},
   "outputs": [
    {
     "name": "stdout",
     "output_type": "stream",
     "text": [
      "(5520, 6)\n",
      "text          object\n",
      "class       category\n",
      "gendered    category\n",
      "name        category\n",
      "gender      category\n",
      "office      category\n",
      "dtype: object\n"
     ]
    },
    {
     "data": {
      "text/html": [
       "<div>\n",
       "<style scoped>\n",
       "    .dataframe tbody tr th:only-of-type {\n",
       "        vertical-align: middle;\n",
       "    }\n",
       "\n",
       "    .dataframe tbody tr th {\n",
       "        vertical-align: top;\n",
       "    }\n",
       "\n",
       "    .dataframe thead th {\n",
       "        text-align: right;\n",
       "    }\n",
       "</style>\n",
       "<table border=\"1\" class=\"dataframe\">\n",
       "  <thead>\n",
       "    <tr style=\"text-align: right;\">\n",
       "      <th></th>\n",
       "      <th>text</th>\n",
       "      <th>class</th>\n",
       "      <th>gendered</th>\n",
       "      <th>name</th>\n",
       "      <th>gender</th>\n",
       "      <th>office</th>\n",
       "    </tr>\n",
       "  </thead>\n",
       "  <tbody>\n",
       "    <tr>\n",
       "      <th>0</th>\n",
       "      <td>text</td>\n",
       "      <td>neutral</td>\n",
       "      <td>0.0</td>\n",
       "      <td>Olga Sánchez Cordero</td>\n",
       "      <td>female</td>\n",
       "      <td>executive</td>\n",
       "    </tr>\n",
       "    <tr>\n",
       "      <th>1</th>\n",
       "      <td>@PlasticoTieso @LuRiojas Nos vale mucha verga ...</td>\n",
       "      <td>aggresive</td>\n",
       "      <td>1.0</td>\n",
       "      <td>Lucía Riojas</td>\n",
       "      <td>female</td>\n",
       "      <td>congress</td>\n",
       "    </tr>\n",
       "    <tr>\n",
       "      <th>2</th>\n",
       "      <td>RT @veronicagmiceli: #RuthOlveraporencimadelal...</td>\n",
       "      <td>neutral</td>\n",
       "      <td>0.0</td>\n",
       "      <td>Olga Sánchez Cordero</td>\n",
       "      <td>female</td>\n",
       "      <td>executive</td>\n",
       "    </tr>\n",
       "    <tr>\n",
       "      <th>3</th>\n",
       "      <td>@M_OlgaSCordero @SEGOB_mx @LuisCardenasMx @Mx_...</td>\n",
       "      <td>neutral</td>\n",
       "      <td>0.0</td>\n",
       "      <td>Olga Sánchez Cordero</td>\n",
       "      <td>female</td>\n",
       "      <td>executive</td>\n",
       "    </tr>\n",
       "    <tr>\n",
       "      <th>4</th>\n",
       "      <td>RT @quebecq: @adrifadi @lopezobrador_ @HectorA...</td>\n",
       "      <td>neutral</td>\n",
       "      <td>0.0</td>\n",
       "      <td>Olga Sánchez Cordero</td>\n",
       "      <td>female</td>\n",
       "      <td>executive</td>\n",
       "    </tr>\n",
       "  </tbody>\n",
       "</table>\n",
       "</div>"
      ],
      "text/plain": [
       "                                                text      class gendered  \\\n",
       "0                                               text    neutral      0.0   \n",
       "1  @PlasticoTieso @LuRiojas Nos vale mucha verga ...  aggresive      1.0   \n",
       "2  RT @veronicagmiceli: #RuthOlveraporencimadelal...    neutral      0.0   \n",
       "3  @M_OlgaSCordero @SEGOB_mx @LuisCardenasMx @Mx_...    neutral      0.0   \n",
       "4  RT @quebecq: @adrifadi @lopezobrador_ @HectorA...    neutral      0.0   \n",
       "\n",
       "                   name  gender     office  \n",
       "0  Olga Sánchez Cordero  female  executive  \n",
       "1          Lucía Riojas  female   congress  \n",
       "2  Olga Sánchez Cordero  female  executive  \n",
       "3  Olga Sánchez Cordero  female  executive  \n",
       "4  Olga Sánchez Cordero  female  executive  "
      ]
     },
     "execution_count": 18,
     "metadata": {},
     "output_type": "execute_result"
    }
   ],
   "source": [
    "# Estudiamos las características de los datos\n",
    "print(tuits_labeled.shape)\n",
    "print(tuits_labeled.dtypes)\n",
    "tuits_labeled.head(5)"
   ]
  },
  {
   "cell_type": "markdown",
   "metadata": {
    "slideshow": {
     "slide_type": "slide"
    }
   },
   "source": [
    "#### Hallazgos: ejemplos del fenómeno de interés"
   ]
  },
  {
   "cell_type": "markdown",
   "metadata": {
    "slideshow": {
     "slide_type": "subslide"
    }
   },
   "source": [
    "Tuits neutrales \n",
    "![unchanged image](t_neutro_1.png)"
   ]
  },
  {
   "cell_type": "markdown",
   "metadata": {
    "slideshow": {
     "slide_type": "subslide"
    }
   },
   "source": [
    "#### Hallazgos: ejemplos del fenómeno de interés\n",
    "Tuits agresivos no relacionados con el género \n",
    "![image](t_ag_1.png)"
   ]
  },
  {
   "cell_type": "markdown",
   "metadata": {
    "slideshow": {
     "slide_type": "subslide"
    }
   },
   "source": [
    "#### Hallazgos: ejemplos del fenómeno de interés\n",
    "Tuits agresivos relacionados con el género \n",
    "![unchanged](t_ag_miso_1.png)"
   ]
  },
  {
   "cell_type": "markdown",
   "metadata": {
    "slideshow": {
     "slide_type": "slide"
    }
   },
   "source": [
    "#### Naturaleza de los datos"
   ]
  },
  {
   "cell_type": "code",
   "execution_count": 20,
   "metadata": {
    "slideshow": {
     "slide_type": "subslide"
    }
   },
   "outputs": [
    {
     "data": {
      "text/html": [
       "<div>\n",
       "<style scoped>\n",
       "    .dataframe tbody tr th:only-of-type {\n",
       "        vertical-align: middle;\n",
       "    }\n",
       "\n",
       "    .dataframe tbody tr th {\n",
       "        vertical-align: top;\n",
       "    }\n",
       "\n",
       "    .dataframe thead th {\n",
       "        text-align: right;\n",
       "    }\n",
       "</style>\n",
       "<table border=\"1\" class=\"dataframe\">\n",
       "  <thead>\n",
       "    <tr style=\"text-align: right;\">\n",
       "      <th></th>\n",
       "      <th>text</th>\n",
       "      <th>gender</th>\n",
       "      <th>percentage</th>\n",
       "    </tr>\n",
       "    <tr>\n",
       "      <th>gender</th>\n",
       "      <th></th>\n",
       "      <th></th>\n",
       "      <th></th>\n",
       "    </tr>\n",
       "  </thead>\n",
       "  <tbody>\n",
       "    <tr>\n",
       "      <th>female</th>\n",
       "      <td>3032</td>\n",
       "      <td>female</td>\n",
       "      <td>54.9</td>\n",
       "    </tr>\n",
       "    <tr>\n",
       "      <th>male</th>\n",
       "      <td>2488</td>\n",
       "      <td>male</td>\n",
       "      <td>45.1</td>\n",
       "    </tr>\n",
       "  </tbody>\n",
       "</table>\n",
       "</div>"
      ],
      "text/plain": [
       "        text  gender  percentage\n",
       "gender                          \n",
       "female  3032  female        54.9\n",
       "male    2488    male        45.1"
      ]
     },
     "execution_count": 20,
     "metadata": {},
     "output_type": "execute_result"
    }
   ],
   "source": [
    "# Gráficas descriptivas de los tuits etiquetados\n",
    "gender_tuits = pd.DataFrame({'text' : tuits_labeled.groupby('gender')['text'].count()})\n",
    "gender_tuits['gender'] = gender_tuits.index\n",
    "gender_tuits['percentage'] = round((gender_tuits['text']/sum(gender_tuits['text']))*100, 1)\n",
    "gender_tuits"
   ]
  },
  {
   "cell_type": "code",
   "execution_count": 21,
   "metadata": {},
   "outputs": [
    {
     "data": {
      "text/plain": [
       "[Text(0, 0.5, 'Número de tuits recopilados'),\n",
       " Text(0.5, 0, 'Género'),\n",
       " Text(0.5, 1.0, 'Distribución de tuits por género en muestra aleatoria')]"
      ]
     },
     "execution_count": 21,
     "metadata": {},
     "output_type": "execute_result"
    },
    {
     "data": {
      "image/png": "[encoded data removed]",
      "text/plain": [
       "<Figure size 432x288 with 1 Axes>"
      ]
     },
     "metadata": {
      "needs_background": "light"
     },
     "output_type": "display_data"
    }
   ],
   "source": [
    "# Construcción de la gráfica\n",
    "sequential_colors = sns.color_palette(\"RdPu\", 2)\n",
    "sns.set_palette(sequential_colors)\n",
    "gender_plot = sns.barplot(x = 'gender', y ='text', data = gender_tuits)\n",
    "gender_plot.set(xlabel='Género', ylabel='Número de tuits recopilados', title = \"Distribución de tuits por género en muestra aleatoria\")\n"
   ]
  },
  {
   "cell_type": "code",
   "execution_count": 22,
   "metadata": {
    "slideshow": {
     "slide_type": "subslide"
    }
   },
   "outputs": [
    {
     "data": {
      "text/html": [
       "<div>\n",
       "<style scoped>\n",
       "    .dataframe tbody tr th:only-of-type {\n",
       "        vertical-align: middle;\n",
       "    }\n",
       "\n",
       "    .dataframe tbody tr th {\n",
       "        vertical-align: top;\n",
       "    }\n",
       "\n",
       "    .dataframe thead th {\n",
       "        text-align: right;\n",
       "    }\n",
       "</style>\n",
       "<table border=\"1\" class=\"dataframe\">\n",
       "  <thead>\n",
       "    <tr style=\"text-align: right;\">\n",
       "      <th></th>\n",
       "      <th>text</th>\n",
       "      <th>office</th>\n",
       "      <th>percentage</th>\n",
       "    </tr>\n",
       "    <tr>\n",
       "      <th>office</th>\n",
       "      <th></th>\n",
       "      <th></th>\n",
       "      <th></th>\n",
       "    </tr>\n",
       "  </thead>\n",
       "  <tbody>\n",
       "    <tr>\n",
       "      <th>congress</th>\n",
       "      <td>186</td>\n",
       "      <td>congress</td>\n",
       "      <td>3.4</td>\n",
       "    </tr>\n",
       "    <tr>\n",
       "      <th>executive</th>\n",
       "      <td>5316</td>\n",
       "      <td>executive</td>\n",
       "      <td>96.3</td>\n",
       "    </tr>\n",
       "    <tr>\n",
       "      <th>local</th>\n",
       "      <td>4</td>\n",
       "      <td>local</td>\n",
       "      <td>0.1</td>\n",
       "    </tr>\n",
       "    <tr>\n",
       "      <th>senate</th>\n",
       "      <td>14</td>\n",
       "      <td>senate</td>\n",
       "      <td>0.3</td>\n",
       "    </tr>\n",
       "  </tbody>\n",
       "</table>\n",
       "</div>"
      ],
      "text/plain": [
       "           text     office  percentage\n",
       "office                                \n",
       "congress    186   congress         3.4\n",
       "executive  5316  executive        96.3\n",
       "local         4      local         0.1\n",
       "senate       14     senate         0.3"
      ]
     },
     "execution_count": 22,
     "metadata": {},
     "output_type": "execute_result"
    }
   ],
   "source": [
    "#Transformación de los datos\n",
    "office_tuits = pd.DataFrame({'text' : tuits_labeled.groupby('office')['text'].count()})\n",
    "office_tuits['office'] = office_tuits.index\n",
    "office_tuits['percentage'] = round((office_tuits['text']/sum(office_tuits['text']))*100, 1)\n",
    "office_tuits"
   ]
  },
  {
   "cell_type": "code",
   "execution_count": 23,
   "metadata": {},
   "outputs": [
    {
     "data": {
      "text/plain": [
       "Text(2.9, 100, '0.4%')"
      ]
     },
     "execution_count": 23,
     "metadata": {},
     "output_type": "execute_result"
    },
    {
     "data": {
      "image/png": "[encoded data removed]",
      "text/plain": [
       "<Figure size 432x288 with 1 Axes>"
      ]
     },
     "metadata": {
      "needs_background": "light"
     },
     "output_type": "display_data"
    }
   ],
   "source": [
    "# Contrucción de la gráfica\n",
    "sequential_colors = sns.color_palette(\"RdPu\", 2)\n",
    "sns.set_palette(sequential_colors)\n",
    "office_plot = sns.barplot(x = 'office', y ='text', data = office_tuits)\n",
    "office_plot.set(xlabel='Nivel de gobierno', ylabel='Número de tuits recopilados', title = \"Distribución de tuits por tipo de cargo\")\n",
    "\n",
    "# Etiquetas de porcentajes \n",
    "office_plot.text(x = -0.1, y = 300, s = \"3.4%\")\n",
    "office_plot.text(x = 0.8, y = 5350, s = \"96.3%\")\n",
    "office_plot.text(x = 1.9, y = 100, s = \"0.1%\")\n",
    "office_plot.text(x = 2.9, y = 100, s = \"0.4%\")\n"
   ]
  },
  {
   "cell_type": "code",
   "execution_count": 24,
   "metadata": {
    "slideshow": {
     "slide_type": "subslide"
    }
   },
   "outputs": [
    {
     "data": {
      "text/html": [
       "<div>\n",
       "<style scoped>\n",
       "    .dataframe tbody tr th:only-of-type {\n",
       "        vertical-align: middle;\n",
       "    }\n",
       "\n",
       "    .dataframe tbody tr th {\n",
       "        vertical-align: top;\n",
       "    }\n",
       "\n",
       "    .dataframe thead th {\n",
       "        text-align: right;\n",
       "    }\n",
       "</style>\n",
       "<table border=\"1\" class=\"dataframe\">\n",
       "  <thead>\n",
       "    <tr style=\"text-align: right;\">\n",
       "      <th></th>\n",
       "      <th>text</th>\n",
       "      <th>name</th>\n",
       "      <th>percentage</th>\n",
       "    </tr>\n",
       "    <tr>\n",
       "      <th>name</th>\n",
       "      <th></th>\n",
       "      <th></th>\n",
       "      <th></th>\n",
       "    </tr>\n",
       "  </thead>\n",
       "  <tbody>\n",
       "    <tr>\n",
       "      <th>Aníbal Ostoa Ortega</th>\n",
       "      <td>13</td>\n",
       "      <td>Aníbal Ostoa Ortega</td>\n",
       "      <td>0.2</td>\n",
       "    </tr>\n",
       "    <tr>\n",
       "      <th>Elsa Amabel Landín</th>\n",
       "      <td>4</td>\n",
       "      <td>Elsa Amabel Landín</td>\n",
       "      <td>0.1</td>\n",
       "    </tr>\n",
       "    <tr>\n",
       "      <th>Lucía Riojas</th>\n",
       "      <td>186</td>\n",
       "      <td>Lucía Riojas</td>\n",
       "      <td>3.4</td>\n",
       "    </tr>\n",
       "    <tr>\n",
       "      <th>Marcelo Ebrard</th>\n",
       "      <td>2390</td>\n",
       "      <td>Marcelo Ebrard</td>\n",
       "      <td>43.3</td>\n",
       "    </tr>\n",
       "    <tr>\n",
       "      <th>María Merced González</th>\n",
       "      <td>1</td>\n",
       "      <td>María Merced González</td>\n",
       "      <td>0.0</td>\n",
       "    </tr>\n",
       "    <tr>\n",
       "      <th>Olga Sánchez Cordero</th>\n",
       "      <td>2841</td>\n",
       "      <td>Olga Sánchez Cordero</td>\n",
       "      <td>51.5</td>\n",
       "    </tr>\n",
       "    <tr>\n",
       "      <th>Víctor Villalobos Arámbula</th>\n",
       "      <td>85</td>\n",
       "      <td>Víctor Villalobos Arámbula</td>\n",
       "      <td>1.5</td>\n",
       "    </tr>\n",
       "  </tbody>\n",
       "</table>\n",
       "</div>"
      ],
      "text/plain": [
       "                             text                         name  percentage\n",
       "name                                                                      \n",
       "Aníbal Ostoa Ortega            13         Aníbal Ostoa Ortega          0.2\n",
       "Elsa Amabel Landín              4           Elsa Amabel Landín         0.1\n",
       "Lucía Riojas                  186                 Lucía Riojas         3.4\n",
       "Marcelo Ebrard               2390               Marcelo Ebrard        43.3\n",
       "María Merced González           1       María Merced González          0.0\n",
       "Olga Sánchez Cordero         2841         Olga Sánchez Cordero        51.5\n",
       "Víctor Villalobos Arámbula     85  Víctor Villalobos Arámbula          1.5"
      ]
     },
     "execution_count": 24,
     "metadata": {},
     "output_type": "execute_result"
    }
   ],
   "source": [
    "#Transformación de los datos: persona \n",
    "name_tuits = pd.DataFrame({'text' : tuits_labeled.groupby('name')['text'].count()})\n",
    "name_tuits['name'] = name_tuits.index\n",
    "name_tuits['percentage'] = round((name_tuits['text']/sum(name_tuits['text']))*100, 1)\n",
    "name_tuits"
   ]
  },
  {
   "cell_type": "code",
   "execution_count": 25,
   "metadata": {
    "slideshow": {
     "slide_type": "subslide"
    }
   },
   "outputs": [],
   "source": [
    "# Distribución por agresividad\n",
    "# Transformación de los datos\n",
    "aggresive_tuits = pd.DataFrame({'text' : tuits_labeled.groupby('class')['text'].count()})\n",
    "aggresive_tuits['class'] = aggresive_tuits.index\n",
    "aggresive_tuits['percentage'] = round((aggresive_tuits['text']/sum(aggresive_tuits['text']))*100, 1)"
   ]
  },
  {
   "cell_type": "code",
   "execution_count": 26,
   "metadata": {
    "slideshow": {
     "slide_type": "subslide"
    }
   },
   "outputs": [
    {
     "data": {
      "text/html": [
       "<div>\n",
       "<style scoped>\n",
       "    .dataframe tbody tr th:only-of-type {\n",
       "        vertical-align: middle;\n",
       "    }\n",
       "\n",
       "    .dataframe tbody tr th {\n",
       "        vertical-align: top;\n",
       "    }\n",
       "\n",
       "    .dataframe thead th {\n",
       "        text-align: right;\n",
       "    }\n",
       "</style>\n",
       "<table border=\"1\" class=\"dataframe\">\n",
       "  <thead>\n",
       "    <tr style=\"text-align: right;\">\n",
       "      <th></th>\n",
       "      <th>text</th>\n",
       "      <th>class</th>\n",
       "      <th>percentage</th>\n",
       "    </tr>\n",
       "    <tr>\n",
       "      <th>class</th>\n",
       "      <th></th>\n",
       "      <th></th>\n",
       "      <th></th>\n",
       "    </tr>\n",
       "  </thead>\n",
       "  <tbody>\n",
       "    <tr>\n",
       "      <th>aggresive</th>\n",
       "      <td>1075</td>\n",
       "      <td>aggresive</td>\n",
       "      <td>19.5</td>\n",
       "    </tr>\n",
       "    <tr>\n",
       "      <th>neutral</th>\n",
       "      <td>4445</td>\n",
       "      <td>neutral</td>\n",
       "      <td>80.5</td>\n",
       "    </tr>\n",
       "  </tbody>\n",
       "</table>\n",
       "</div>"
      ],
      "text/plain": [
       "           text      class  percentage\n",
       "class                                 \n",
       "aggresive  1075  aggresive        19.5\n",
       "neutral    4445    neutral        80.5"
      ]
     },
     "execution_count": 26,
     "metadata": {},
     "output_type": "execute_result"
    }
   ],
   "source": [
    "# Transformación de los datos\n",
    "aggresive_tuits = pd.DataFrame({'text' : tuits_labeled.groupby('class')['text'].count()})\n",
    "aggresive_tuits['class'] = aggresive_tuits.index\n",
    "aggresive_tuits['percentage'] = round((aggresive_tuits['text']/sum(aggresive_tuits['text']))*100, 1)\n",
    "aggresive_tuits"
   ]
  },
  {
   "cell_type": "code",
   "execution_count": 27,
   "metadata": {},
   "outputs": [
    {
     "data": {
      "text/plain": [
       "Text(0.9, 4480, '80.5%')"
      ]
     },
     "execution_count": 27,
     "metadata": {},
     "output_type": "execute_result"
    },
    {
     "data": {
      "image/png": "[encoded data removed]",
      "text/plain": [
       "<Figure size 432x288 with 1 Axes>"
      ]
     },
     "metadata": {
      "needs_background": "light"
     },
     "output_type": "display_data"
    }
   ],
   "source": [
    "# Creación de la gráfica\n",
    "sequential_colors = sns.color_palette(\"RdPu\", 2)\n",
    "sns.set_palette(sequential_colors)\n",
    "aggresive_plot = sns.barplot(x = 'class', y ='text', data = aggresive_tuits)\n",
    "aggresive_plot.set(xlabel='Tipo de tuit', ylabel='Número de tuits', title = \"Distribución de tuits agresivos y neutrales\")\n",
    "\n",
    "aggresive_plot.text(x =-0.1, y = 1150, s = \"19.5%\")\n",
    "aggresive_plot.text(x = 0.9, y = 4480, s = \"80.5%\")\n"
   ]
  },
  {
   "cell_type": "code",
   "execution_count": 28,
   "metadata": {
    "slideshow": {
     "slide_type": "subslide"
    }
   },
   "outputs": [
    {
     "data": {
      "text/html": [
       "<div>\n",
       "<style scoped>\n",
       "    .dataframe tbody tr th:only-of-type {\n",
       "        vertical-align: middle;\n",
       "    }\n",
       "\n",
       "    .dataframe tbody tr th {\n",
       "        vertical-align: top;\n",
       "    }\n",
       "\n",
       "    .dataframe thead th {\n",
       "        text-align: right;\n",
       "    }\n",
       "</style>\n",
       "<table border=\"1\" class=\"dataframe\">\n",
       "  <thead>\n",
       "    <tr style=\"text-align: right;\">\n",
       "      <th></th>\n",
       "      <th>text</th>\n",
       "      <th>gendered</th>\n",
       "      <th>percentage</th>\n",
       "    </tr>\n",
       "    <tr>\n",
       "      <th>gendered</th>\n",
       "      <th></th>\n",
       "      <th></th>\n",
       "      <th></th>\n",
       "    </tr>\n",
       "  </thead>\n",
       "  <tbody>\n",
       "    <tr>\n",
       "      <th>0.0</th>\n",
       "      <td>982</td>\n",
       "      <td>0.0</td>\n",
       "      <td>91.3</td>\n",
       "    </tr>\n",
       "    <tr>\n",
       "      <th>1.0</th>\n",
       "      <td>93</td>\n",
       "      <td>1.0</td>\n",
       "      <td>8.7</td>\n",
       "    </tr>\n",
       "  </tbody>\n",
       "</table>\n",
       "</div>"
      ],
      "text/plain": [
       "          text gendered  percentage\n",
       "gendered                           \n",
       "0.0        982      0.0        91.3\n",
       "1.0         93      1.0         8.7"
      ]
     },
     "execution_count": 28,
     "metadata": {},
     "output_type": "execute_result"
    }
   ],
   "source": [
    "# Tuits misóginos \n",
    "# Transformación de los datos\n",
    "aggresive = tuits_labeled['class'] == \"aggresive\"\n",
    "aggresive_tuits = tuits_labeled[aggresive]\n",
    "\n",
    "misogynistic_tuits = pd.DataFrame({'text' : aggresive_tuits.groupby('gendered')['text'].count()})\n",
    "misogynistic_tuits['gendered'] = misogynistic_tuits.index\n",
    "misogynistic_tuits['percentage'] = round((misogynistic_tuits['text']/sum(misogynistic_tuits['text']))*100, 1)\n",
    "misogynistic_tuits"
   ]
  },
  {
   "cell_type": "code",
   "execution_count": 29,
   "metadata": {
    "slideshow": {
     "slide_type": "subslide"
    }
   },
   "outputs": [
    {
     "data": {
      "text/plain": [
       "Text(0.9, 120, '8.7%')"
      ]
     },
     "execution_count": 29,
     "metadata": {},
     "output_type": "execute_result"
    },
    {
     "data": {
      "image/png": "[encoded data removed]",
      "text/plain": [
       "<Figure size 432x288 with 1 Axes>"
      ]
     },
     "metadata": {
      "needs_background": "light"
     },
     "output_type": "display_data"
    }
   ],
   "source": [
    "# Creación de la gráfica\n",
    "sequential_colors = sns.color_palette(\"RdPu\", 2)\n",
    "sns.set_palette(sequential_colors)\n",
    "misogynistic_plot = sns.barplot(x = 'gendered', y ='text', data = misogynistic_tuits)\n",
    "misogynistic_plot.set(xlabel='Tipo de tuit', ylabel='Número de tuits', title = \"Distribución de tuits agresivos entre misóginos y no misóginos\")\n",
    "misogynistic_plot.text(x =-0.1, y = 990, s = \"91.3%\")\n",
    "misogynistic_plot.text(x = 0.9, y = 120, s = \"8.7%\")"
   ]
  },
  {
   "cell_type": "markdown",
   "metadata": {
    "slideshow": {
     "slide_type": "slide"
    }
   },
   "source": [
    "#### Algoritmo: división de los datos entre entrenamiento y prueba"
   ]
  },
  {
   "cell_type": "code",
   "execution_count": 30,
   "metadata": {
    "slideshow": {
     "slide_type": "subslide"
    }
   },
   "outputs": [],
   "source": [
    "# Dividimos la información en datos de entrenamiento y datos de prueba\n",
    "from sklearn.model_selection import train_test_split\n",
    "\n",
    "# Separamos las características a predecir\n",
    "x_all = tuits_labeled.drop(['class', 'gendered'], axis = 1)\n",
    "y_all = tuits_labeled[['class', 'gendered']]\n",
    "num_test= 0.8\n",
    "\n",
    "x_train, x_test, y_train, y_test = train_test_split(x_all, y_all, test_size = 0.2)"
   ]
  },
  {
   "cell_type": "markdown",
   "metadata": {
    "slideshow": {
     "slide_type": "slide"
    }
   },
   "source": [
    "#### Preprocesamiento de texto: paquete Tweet-Preprocessor"
   ]
  },
  {
   "cell_type": "code",
   "execution_count": 31,
   "metadata": {
    "slideshow": {
     "slide_type": "subslide"
    }
   },
   "outputs": [
    {
     "name": "stdout",
     "output_type": "stream",
     "text": [
      "Preprocessor is $HASHTAG$ $EMOJI$ $URL$\n",
      "Preprocessor is\n",
      "<preprocessor.parse.ParseResult object at 0x000001B6B28AC708>\n"
     ]
    }
   ],
   "source": [
    "# Procesamiento de texto con Tweet-Preprocessor\n",
    "# Ejemplo de uso \n",
    "print(p.tokenize('Preprocessor is #awesome 👍 https://github.com/s/preprocessor'))\n",
    "print(p.clean('Preprocessor is #awesome 👍 https://github.com/s/preprocessor'))\n",
    "print(p.parse('Preprocessor is #awesome https://github.com/s/preprocessor'))"
   ]
  },
  {
   "cell_type": "code",
   "execution_count": 32,
   "metadata": {
    "slideshow": {
     "slide_type": "subslide"
    }
   },
   "outputs": [
    {
     "ename": "TypeError",
     "evalue": "expected string or bytes-like object",
     "output_type": "error",
     "traceback": [
      "\u001b[1;31m---------------------------------------------------------------------------\u001b[0m",
      "\u001b[1;31mTypeError\u001b[0m                                 Traceback (most recent call last)",
      "\u001b[1;32m<ipython-input-32-0f97b880332d>\u001b[0m in \u001b[0;36m<module>\u001b[1;34m\u001b[0m\n\u001b[1;32m----> 1\u001b[1;33m \u001b[0mp\u001b[0m\u001b[1;33m.\u001b[0m\u001b[0mclean\u001b[0m\u001b[1;33m(\u001b[0m\u001b[0mx_train\u001b[0m\u001b[1;33m[\u001b[0m\u001b[1;34m'text'\u001b[0m\u001b[1;33m]\u001b[0m\u001b[1;33m)\u001b[0m\u001b[1;33m\u001b[0m\u001b[1;33m\u001b[0m\u001b[0m\n\u001b[0m",
      "\u001b[1;32mC:\\ProgramData\\Miniconda3\\lib\\site-packages\\preprocessor\\api.py\u001b[0m in \u001b[0;36mclean\u001b[1;34m(tweet_string)\u001b[0m\n\u001b[0;32m     28\u001b[0m         \u001b[0mPreprocessor\u001b[0m \u001b[1;32mis\u001b[0m\u001b[1;33m\u001b[0m\u001b[1;33m\u001b[0m\u001b[0m\n\u001b[0;32m     29\u001b[0m     \"\"\"\n\u001b[1;32m---> 30\u001b[1;33m     \u001b[0mcleaned_tweet_string\u001b[0m \u001b[1;33m=\u001b[0m \u001b[0mpreprocessor\u001b[0m\u001b[1;33m.\u001b[0m\u001b[0mclean\u001b[0m\u001b[1;33m(\u001b[0m\u001b[0mtweet_string\u001b[0m\u001b[1;33m,\u001b[0m \u001b[0mFunctions\u001b[0m\u001b[1;33m.\u001b[0m\u001b[0mCLEAN\u001b[0m\u001b[1;33m)\u001b[0m\u001b[1;33m\u001b[0m\u001b[1;33m\u001b[0m\u001b[0m\n\u001b[0m\u001b[0;32m     31\u001b[0m     \u001b[1;32mreturn\u001b[0m \u001b[0mcleaned_tweet_string\u001b[0m\u001b[1;33m\u001b[0m\u001b[1;33m\u001b[0m\u001b[0m\n\u001b[0;32m     32\u001b[0m \u001b[1;33m\u001b[0m\u001b[0m\n",
      "\u001b[1;32mC:\\ProgramData\\Miniconda3\\lib\\site-packages\\preprocessor\\preprocess.py\u001b[0m in \u001b[0;36mclean\u001b[1;34m(self, tweet_string, repl)\u001b[0m\n\u001b[0;32m     27\u001b[0m \u001b[1;33m\u001b[0m\u001b[0m\n\u001b[0;32m     28\u001b[0m             \u001b[1;32mif\u001b[0m \u001b[0mrepl\u001b[0m \u001b[1;33m==\u001b[0m \u001b[0mFunctions\u001b[0m\u001b[1;33m.\u001b[0m\u001b[0mCLEAN\u001b[0m\u001b[1;33m:\u001b[0m\u001b[1;33m\u001b[0m\u001b[1;33m\u001b[0m\u001b[0m\n\u001b[1;32m---> 29\u001b[1;33m                 \u001b[0mtweet_string\u001b[0m \u001b[1;33m=\u001b[0m \u001b[0mmethod_to_call\u001b[0m\u001b[1;33m(\u001b[0m\u001b[0mtweet_string\u001b[0m\u001b[1;33m,\u001b[0m \u001b[1;34m''\u001b[0m\u001b[1;33m)\u001b[0m\u001b[1;33m\u001b[0m\u001b[1;33m\u001b[0m\u001b[0m\n\u001b[0m\u001b[0;32m     30\u001b[0m             \u001b[1;32melse\u001b[0m\u001b[1;33m:\u001b[0m\u001b[1;33m\u001b[0m\u001b[1;33m\u001b[0m\u001b[0m\n\u001b[0;32m     31\u001b[0m                 \u001b[0mtweet_string\u001b[0m \u001b[1;33m=\u001b[0m \u001b[0mmethod_to_call\u001b[0m\u001b[1;33m(\u001b[0m\u001b[0mtweet_string\u001b[0m\u001b[1;33m,\u001b[0m \u001b[0mtoken\u001b[0m\u001b[1;33m)\u001b[0m\u001b[1;33m\u001b[0m\u001b[1;33m\u001b[0m\u001b[0m\n",
      "\u001b[1;32mC:\\ProgramData\\Miniconda3\\lib\\site-packages\\preprocessor\\preprocess.py\u001b[0m in \u001b[0;36mpreprocess_emojis\u001b[1;34m(self, tweet_string, repl)\u001b[0m\n\u001b[0;32m     47\u001b[0m \u001b[1;33m\u001b[0m\u001b[0m\n\u001b[0;32m     48\u001b[0m     \u001b[1;32mdef\u001b[0m \u001b[0mpreprocess_emojis\u001b[0m\u001b[1;33m(\u001b[0m\u001b[0mself\u001b[0m\u001b[1;33m,\u001b[0m \u001b[0mtweet_string\u001b[0m\u001b[1;33m,\u001b[0m \u001b[0mrepl\u001b[0m\u001b[1;33m)\u001b[0m\u001b[1;33m:\u001b[0m\u001b[1;33m\u001b[0m\u001b[1;33m\u001b[0m\u001b[0m\n\u001b[1;32m---> 49\u001b[1;33m         \u001b[0mprocessed\u001b[0m \u001b[1;33m=\u001b[0m \u001b[0mPatterns\u001b[0m\u001b[1;33m.\u001b[0m\u001b[0mEMOJIS_PATTERN\u001b[0m\u001b[1;33m.\u001b[0m\u001b[0msub\u001b[0m\u001b[1;33m(\u001b[0m\u001b[0mrepl\u001b[0m\u001b[1;33m,\u001b[0m \u001b[0mtweet_string\u001b[0m\u001b[1;33m)\u001b[0m\u001b[1;33m\u001b[0m\u001b[1;33m\u001b[0m\u001b[0m\n\u001b[0m\u001b[0;32m     50\u001b[0m         \u001b[1;32mreturn\u001b[0m \u001b[0mprocessed\u001b[0m\u001b[1;33m.\u001b[0m\u001b[0mencode\u001b[0m\u001b[1;33m(\u001b[0m\u001b[1;34m'ascii'\u001b[0m\u001b[1;33m,\u001b[0m \u001b[1;34m'ignore'\u001b[0m\u001b[1;33m)\u001b[0m\u001b[1;33m.\u001b[0m\u001b[0mdecode\u001b[0m\u001b[1;33m(\u001b[0m\u001b[1;34m'ascii'\u001b[0m\u001b[1;33m)\u001b[0m\u001b[1;33m\u001b[0m\u001b[1;33m\u001b[0m\u001b[0m\n\u001b[0;32m     51\u001b[0m \u001b[1;33m\u001b[0m\u001b[0m\n",
      "\u001b[1;31mTypeError\u001b[0m: expected string or bytes-like object"
     ]
    }
   ],
   "source": [
    "p.clean(x_train['text'])"
   ]
  },
  {
   "cell_type": "code",
   "execution_count": 65,
   "metadata": {
    "slideshow": {
     "slide_type": "subslide"
    }
   },
   "outputs": [
    {
     "data": {
      "text/plain": [
       "'RT : Auge y declive de Medina Mor...4743 RT : Que qued la favorita del presi...5173 ...3314 RT : Donde estn las pipas? Las f...1711 RT : Creen que todos somos i... ... Jajajajaj...4107 ...107 RT : Aunque usted no lo crea, los p...941 RT : Y entonces no hubiera sido mejo...5104 RT : Gracias, Canciller. Ojal el G...Name: text, Length: , dtype: object'"
      ]
     },
     "execution_count": 65,
     "metadata": {},
     "output_type": "execute_result"
    }
   ],
   "source": [
    "p.clean(str(x_train['text']))"
   ]
  },
  {
   "cell_type": "markdown",
   "metadata": {
    "slideshow": {
     "slide_type": "slide"
    }
   },
   "source": [
    "#### Preprocesamiento de texto: paquete TextModel"
   ]
  },
  {
   "cell_type": "code",
   "execution_count": 33,
   "metadata": {
    "slideshow": {
     "slide_type": "subslide"
    }
   },
   "outputs": [
    {
     "data": {
      "text/plain": [
       "<4x4 sparse matrix of type '<class 'numpy.float64'>'\n",
       "\twith 4 stored elements in Compressed Sparse Row format>"
      ]
     },
     "execution_count": 33,
     "metadata": {},
     "output_type": "execute_result"
    }
   ],
   "source": [
    "#Importar la paquetería \n",
    "from microtc.textmodel import TextModel\n",
    "# Establecer el objeto que contiene el texto de entrenamiento\n",
    "corpus = x_train\n",
    "# Ajustar a un modelo de texto\n",
    "textmodel = TextModel().fit(corpus)\n",
    "# Aplicar las transformaciones\n",
    "x_train_processed = textmodel.transform(corpus)\n",
    "x_train_processed"
   ]
  },
  {
   "cell_type": "code",
   "execution_count": 34,
   "metadata": {
    "slideshow": {
     "slide_type": "subslide"
    }
   },
   "outputs": [
    {
     "data": {
      "text/plain": [
       "<4x4 sparse matrix of type '<class 'numpy.float64'>'\n",
       "\twith 4 stored elements in Compressed Sparse Row format>"
      ]
     },
     "execution_count": 34,
     "metadata": {},
     "output_type": "execute_result"
    }
   ],
   "source": [
    "# Establecer el objeto que contiene el texto de prueba\n",
    "corpus = x_test\n",
    "# Ajustar a un modelo de texto\n",
    "textmodel = TextModel().fit(corpus)\n",
    "# Aplicar las transformaciones\n",
    "x_train_processed = textmodel.transform(corpus)\n",
    "x_train_processed"
   ]
  },
  {
   "cell_type": "markdown",
   "metadata": {
    "slideshow": {
     "slide_type": "slide"
    }
   },
   "source": [
    "#### Algoritmo"
   ]
  },
  {
   "cell_type": "code",
   "execution_count": 35,
   "metadata": {
    "slideshow": {
     "slide_type": "subslide"
    }
   },
   "outputs": [
    {
     "data": {
      "text/plain": [
       "RandomForestClassifier(bootstrap=True, ccp_alpha=0.0, class_weight=None,\n",
       "                       criterion='entropy', max_depth=5, max_features='sqrt',\n",
       "                       max_leaf_nodes=None, max_samples=None,\n",
       "                       min_impurity_decrease=0.0, min_impurity_split=None,\n",
       "                       min_samples_leaf=1, min_samples_split=2,\n",
       "                       min_weight_fraction_leaf=0.0, n_estimators=20,\n",
       "                       n_jobs=None, oob_score=False, random_state=None,\n",
       "                       verbose=0, warm_start=False)"
      ]
     },
     "execution_count": 35,
     "metadata": {},
     "output_type": "execute_result"
    }
   ],
   "source": [
    "#### Definir algorimo \n",
    "from sklearn.ensemble import RandomForestClassifier\n",
    "# Seleccionamos el tipo de clasificador, en este caso RandomForest. \n",
    "clf = RandomForestClassifier(n_estimators=20, max_features='sqrt', criterion='entropy', max_depth=5)\n",
    "clf"
   ]
  },
  {
   "cell_type": "code",
   "execution_count": 36,
   "metadata": {
    "slideshow": {
     "slide_type": "subslide"
    }
   },
   "outputs": [
    {
     "data": {
      "text/plain": [
       "RandomForestClassifier(bootstrap=True, ccp_alpha=0.0, class_weight=None,\n",
       "                       criterion='gini', max_depth=None, max_features='auto',\n",
       "                       max_leaf_nodes=None, max_samples=None,\n",
       "                       min_impurity_decrease=0.0, min_impurity_split=None,\n",
       "                       min_samples_leaf=1, min_samples_split=2,\n",
       "                       min_weight_fraction_leaf=0.0, n_estimators=100,\n",
       "                       n_jobs=None, oob_score=False, random_state=None,\n",
       "                       verbose=0, warm_start=False)"
      ]
     },
     "execution_count": 36,
     "metadata": {},
     "output_type": "execute_result"
    }
   ],
   "source": [
    "clf2 = RandomForestClassifier()\n",
    "clf2"
   ]
  },
  {
   "cell_type": "code",
   "execution_count": 37,
   "metadata": {
    "slideshow": {
     "slide_type": "skip"
    }
   },
   "outputs": [
    {
     "data": {
      "text/plain": [
       "1133    0.0\n",
       "4598    0.0\n",
       "2752    0.0\n",
       "4034    0.0\n",
       "4296    0.0\n",
       "       ... \n",
       "1106    0.0\n",
       "646     0.0\n",
       "176     0.0\n",
       "1238    0.0\n",
       "5226    0.0\n",
       "Name: gendered, Length: 4416, dtype: category\n",
       "Categories (2, float64): [0.0, 1.0]"
      ]
     },
     "execution_count": 37,
     "metadata": {},
     "output_type": "execute_result"
    }
   ],
   "source": [
    "#y_train.fillna(method = 'bfill')\n",
    "#y_train.fillna(0)\n",
    "y_train['gendered'].replace(np.nan, 0)"
   ]
  },
  {
   "cell_type": "code",
   "execution_count": 38,
   "metadata": {},
   "outputs": [
    {
     "ename": "ValueError",
     "evalue": "Input contains NaN",
     "output_type": "error",
     "traceback": [
      "\u001b[1;31m---------------------------------------------------------------------------\u001b[0m",
      "\u001b[1;31mValueError\u001b[0m                                Traceback (most recent call last)",
      "\u001b[1;32m<ipython-input-38-459480c1df2b>\u001b[0m in \u001b[0;36m<module>\u001b[1;34m\u001b[0m\n\u001b[0;32m      7\u001b[0m \u001b[0mX_train_imp\u001b[0m \u001b[1;33m=\u001b[0m \u001b[0mimp\u001b[0m\u001b[1;33m.\u001b[0m\u001b[0mtransform\u001b[0m\u001b[1;33m(\u001b[0m\u001b[0mx_train_processed\u001b[0m\u001b[1;33m)\u001b[0m\u001b[1;33m\u001b[0m\u001b[1;33m\u001b[0m\u001b[0m\n\u001b[0;32m      8\u001b[0m \u001b[0mclf\u001b[0m \u001b[1;33m=\u001b[0m \u001b[0mRandomForestClassifier\u001b[0m\u001b[1;33m(\u001b[0m\u001b[0mn_estimators\u001b[0m\u001b[1;33m=\u001b[0m\u001b[1;36m10\u001b[0m\u001b[1;33m)\u001b[0m\u001b[1;33m\u001b[0m\u001b[1;33m\u001b[0m\u001b[0m\n\u001b[1;32m----> 9\u001b[1;33m \u001b[0mclf\u001b[0m \u001b[1;33m=\u001b[0m \u001b[0mclf\u001b[0m\u001b[1;33m.\u001b[0m\u001b[0mfit\u001b[0m\u001b[1;33m(\u001b[0m\u001b[0mx_train_processed\u001b[0m\u001b[1;33m,\u001b[0m \u001b[0my_train\u001b[0m\u001b[1;33m)\u001b[0m\u001b[1;33m\u001b[0m\u001b[1;33m\u001b[0m\u001b[0m\n\u001b[0m",
      "\u001b[1;32mC:\\ProgramData\\Miniconda3\\lib\\site-packages\\sklearn\\ensemble\\_forest.py\u001b[0m in \u001b[0;36mfit\u001b[1;34m(self, X, y, sample_weight)\u001b[0m\n\u001b[0;32m    294\u001b[0m         \u001b[1;31m# Validate or convert input data\u001b[0m\u001b[1;33m\u001b[0m\u001b[1;33m\u001b[0m\u001b[1;33m\u001b[0m\u001b[0m\n\u001b[0;32m    295\u001b[0m         \u001b[0mX\u001b[0m \u001b[1;33m=\u001b[0m \u001b[0mcheck_array\u001b[0m\u001b[1;33m(\u001b[0m\u001b[0mX\u001b[0m\u001b[1;33m,\u001b[0m \u001b[0maccept_sparse\u001b[0m\u001b[1;33m=\u001b[0m\u001b[1;34m\"csc\"\u001b[0m\u001b[1;33m,\u001b[0m \u001b[0mdtype\u001b[0m\u001b[1;33m=\u001b[0m\u001b[0mDTYPE\u001b[0m\u001b[1;33m)\u001b[0m\u001b[1;33m\u001b[0m\u001b[1;33m\u001b[0m\u001b[0m\n\u001b[1;32m--> 296\u001b[1;33m         \u001b[0my\u001b[0m \u001b[1;33m=\u001b[0m \u001b[0mcheck_array\u001b[0m\u001b[1;33m(\u001b[0m\u001b[0my\u001b[0m\u001b[1;33m,\u001b[0m \u001b[0maccept_sparse\u001b[0m\u001b[1;33m=\u001b[0m\u001b[1;34m'csc'\u001b[0m\u001b[1;33m,\u001b[0m \u001b[0mensure_2d\u001b[0m\u001b[1;33m=\u001b[0m\u001b[1;32mFalse\u001b[0m\u001b[1;33m,\u001b[0m \u001b[0mdtype\u001b[0m\u001b[1;33m=\u001b[0m\u001b[1;32mNone\u001b[0m\u001b[1;33m)\u001b[0m\u001b[1;33m\u001b[0m\u001b[1;33m\u001b[0m\u001b[0m\n\u001b[0m\u001b[0;32m    297\u001b[0m         \u001b[1;32mif\u001b[0m \u001b[0msample_weight\u001b[0m \u001b[1;32mis\u001b[0m \u001b[1;32mnot\u001b[0m \u001b[1;32mNone\u001b[0m\u001b[1;33m:\u001b[0m\u001b[1;33m\u001b[0m\u001b[1;33m\u001b[0m\u001b[0m\n\u001b[0;32m    298\u001b[0m             \u001b[0msample_weight\u001b[0m \u001b[1;33m=\u001b[0m \u001b[0m_check_sample_weight\u001b[0m\u001b[1;33m(\u001b[0m\u001b[0msample_weight\u001b[0m\u001b[1;33m,\u001b[0m \u001b[0mX\u001b[0m\u001b[1;33m)\u001b[0m\u001b[1;33m\u001b[0m\u001b[1;33m\u001b[0m\u001b[0m\n",
      "\u001b[1;32mC:\\ProgramData\\Miniconda3\\lib\\site-packages\\sklearn\\utils\\validation.py\u001b[0m in \u001b[0;36mcheck_array\u001b[1;34m(array, accept_sparse, accept_large_sparse, dtype, order, copy, force_all_finite, ensure_2d, allow_nd, ensure_min_samples, ensure_min_features, warn_on_dtype, estimator)\u001b[0m\n\u001b[0;32m    576\u001b[0m         \u001b[1;32mif\u001b[0m \u001b[0mforce_all_finite\u001b[0m\u001b[1;33m:\u001b[0m\u001b[1;33m\u001b[0m\u001b[1;33m\u001b[0m\u001b[0m\n\u001b[0;32m    577\u001b[0m             _assert_all_finite(array,\n\u001b[1;32m--> 578\u001b[1;33m                                allow_nan=force_all_finite == 'allow-nan')\n\u001b[0m\u001b[0;32m    579\u001b[0m \u001b[1;33m\u001b[0m\u001b[0m\n\u001b[0;32m    580\u001b[0m     \u001b[1;32mif\u001b[0m \u001b[0mensure_min_samples\u001b[0m \u001b[1;33m>\u001b[0m \u001b[1;36m0\u001b[0m\u001b[1;33m:\u001b[0m\u001b[1;33m\u001b[0m\u001b[1;33m\u001b[0m\u001b[0m\n",
      "\u001b[1;32mC:\\ProgramData\\Miniconda3\\lib\\site-packages\\sklearn\\utils\\validation.py\u001b[0m in \u001b[0;36m_assert_all_finite\u001b[1;34m(X, allow_nan, msg_dtype)\u001b[0m\n\u001b[0;32m     63\u001b[0m     \u001b[1;32melif\u001b[0m \u001b[0mX\u001b[0m\u001b[1;33m.\u001b[0m\u001b[0mdtype\u001b[0m \u001b[1;33m==\u001b[0m \u001b[0mnp\u001b[0m\u001b[1;33m.\u001b[0m\u001b[0mdtype\u001b[0m\u001b[1;33m(\u001b[0m\u001b[1;34m'object'\u001b[0m\u001b[1;33m)\u001b[0m \u001b[1;32mand\u001b[0m \u001b[1;32mnot\u001b[0m \u001b[0mallow_nan\u001b[0m\u001b[1;33m:\u001b[0m\u001b[1;33m\u001b[0m\u001b[1;33m\u001b[0m\u001b[0m\n\u001b[0;32m     64\u001b[0m         \u001b[1;32mif\u001b[0m \u001b[0m_object_dtype_isnan\u001b[0m\u001b[1;33m(\u001b[0m\u001b[0mX\u001b[0m\u001b[1;33m)\u001b[0m\u001b[1;33m.\u001b[0m\u001b[0many\u001b[0m\u001b[1;33m(\u001b[0m\u001b[1;33m)\u001b[0m\u001b[1;33m:\u001b[0m\u001b[1;33m\u001b[0m\u001b[1;33m\u001b[0m\u001b[0m\n\u001b[1;32m---> 65\u001b[1;33m             \u001b[1;32mraise\u001b[0m \u001b[0mValueError\u001b[0m\u001b[1;33m(\u001b[0m\u001b[1;34m\"Input contains NaN\"\u001b[0m\u001b[1;33m)\u001b[0m\u001b[1;33m\u001b[0m\u001b[1;33m\u001b[0m\u001b[0m\n\u001b[0m\u001b[0;32m     66\u001b[0m \u001b[1;33m\u001b[0m\u001b[0m\n\u001b[0;32m     67\u001b[0m \u001b[1;33m\u001b[0m\u001b[0m\n",
      "\u001b[1;31mValueError\u001b[0m: Input contains NaN"
     ]
    }
   ],
   "source": [
    "from sklearn.impute import SimpleImputer\n",
    "# Create our imputer to replace missing values with the mean e.g.\n",
    "imp = SimpleImputer(missing_values=np.nan, strategy='mean')\n",
    "imp = imp.fit(x_train_processed)\n",
    "\n",
    "# Impute our data, then train\n",
    "X_train_imp = imp.transform(x_train_processed)\n",
    "clf = RandomForestClassifier(n_estimators=10)\n",
    "clf = clf.fit(x_train_processed, y_train)"
   ]
  },
  {
   "cell_type": "code",
   "execution_count": 39,
   "metadata": {
    "slideshow": {
     "slide_type": "subslide"
    }
   },
   "outputs": [
    {
     "ename": "ValueError",
     "evalue": "Input contains NaN",
     "output_type": "error",
     "traceback": [
      "\u001b[1;31m---------------------------------------------------------------------------\u001b[0m",
      "\u001b[1;31mValueError\u001b[0m                                Traceback (most recent call last)",
      "\u001b[1;32m<ipython-input-39-c132e3dd9746>\u001b[0m in \u001b[0;36m<module>\u001b[1;34m\u001b[0m\n\u001b[0;32m      1\u001b[0m \u001b[1;31m# Entrenamiento del algoritmo\u001b[0m\u001b[1;33m\u001b[0m\u001b[1;33m\u001b[0m\u001b[1;33m\u001b[0m\u001b[0m\n\u001b[1;32m----> 2\u001b[1;33m \u001b[0mclf\u001b[0m\u001b[1;33m.\u001b[0m\u001b[0mfit\u001b[0m\u001b[1;33m(\u001b[0m\u001b[0mx_train_processed\u001b[0m\u001b[1;33m,\u001b[0m \u001b[0my_train\u001b[0m\u001b[1;33m)\u001b[0m\u001b[1;33m\u001b[0m\u001b[1;33m\u001b[0m\u001b[0m\n\u001b[0m",
      "\u001b[1;32mC:\\ProgramData\\Miniconda3\\lib\\site-packages\\sklearn\\ensemble\\_forest.py\u001b[0m in \u001b[0;36mfit\u001b[1;34m(self, X, y, sample_weight)\u001b[0m\n\u001b[0;32m    294\u001b[0m         \u001b[1;31m# Validate or convert input data\u001b[0m\u001b[1;33m\u001b[0m\u001b[1;33m\u001b[0m\u001b[1;33m\u001b[0m\u001b[0m\n\u001b[0;32m    295\u001b[0m         \u001b[0mX\u001b[0m \u001b[1;33m=\u001b[0m \u001b[0mcheck_array\u001b[0m\u001b[1;33m(\u001b[0m\u001b[0mX\u001b[0m\u001b[1;33m,\u001b[0m \u001b[0maccept_sparse\u001b[0m\u001b[1;33m=\u001b[0m\u001b[1;34m\"csc\"\u001b[0m\u001b[1;33m,\u001b[0m \u001b[0mdtype\u001b[0m\u001b[1;33m=\u001b[0m\u001b[0mDTYPE\u001b[0m\u001b[1;33m)\u001b[0m\u001b[1;33m\u001b[0m\u001b[1;33m\u001b[0m\u001b[0m\n\u001b[1;32m--> 296\u001b[1;33m         \u001b[0my\u001b[0m \u001b[1;33m=\u001b[0m \u001b[0mcheck_array\u001b[0m\u001b[1;33m(\u001b[0m\u001b[0my\u001b[0m\u001b[1;33m,\u001b[0m \u001b[0maccept_sparse\u001b[0m\u001b[1;33m=\u001b[0m\u001b[1;34m'csc'\u001b[0m\u001b[1;33m,\u001b[0m \u001b[0mensure_2d\u001b[0m\u001b[1;33m=\u001b[0m\u001b[1;32mFalse\u001b[0m\u001b[1;33m,\u001b[0m \u001b[0mdtype\u001b[0m\u001b[1;33m=\u001b[0m\u001b[1;32mNone\u001b[0m\u001b[1;33m)\u001b[0m\u001b[1;33m\u001b[0m\u001b[1;33m\u001b[0m\u001b[0m\n\u001b[0m\u001b[0;32m    297\u001b[0m         \u001b[1;32mif\u001b[0m \u001b[0msample_weight\u001b[0m \u001b[1;32mis\u001b[0m \u001b[1;32mnot\u001b[0m \u001b[1;32mNone\u001b[0m\u001b[1;33m:\u001b[0m\u001b[1;33m\u001b[0m\u001b[1;33m\u001b[0m\u001b[0m\n\u001b[0;32m    298\u001b[0m             \u001b[0msample_weight\u001b[0m \u001b[1;33m=\u001b[0m \u001b[0m_check_sample_weight\u001b[0m\u001b[1;33m(\u001b[0m\u001b[0msample_weight\u001b[0m\u001b[1;33m,\u001b[0m \u001b[0mX\u001b[0m\u001b[1;33m)\u001b[0m\u001b[1;33m\u001b[0m\u001b[1;33m\u001b[0m\u001b[0m\n",
      "\u001b[1;32mC:\\ProgramData\\Miniconda3\\lib\\site-packages\\sklearn\\utils\\validation.py\u001b[0m in \u001b[0;36mcheck_array\u001b[1;34m(array, accept_sparse, accept_large_sparse, dtype, order, copy, force_all_finite, ensure_2d, allow_nd, ensure_min_samples, ensure_min_features, warn_on_dtype, estimator)\u001b[0m\n\u001b[0;32m    576\u001b[0m         \u001b[1;32mif\u001b[0m \u001b[0mforce_all_finite\u001b[0m\u001b[1;33m:\u001b[0m\u001b[1;33m\u001b[0m\u001b[1;33m\u001b[0m\u001b[0m\n\u001b[0;32m    577\u001b[0m             _assert_all_finite(array,\n\u001b[1;32m--> 578\u001b[1;33m                                allow_nan=force_all_finite == 'allow-nan')\n\u001b[0m\u001b[0;32m    579\u001b[0m \u001b[1;33m\u001b[0m\u001b[0m\n\u001b[0;32m    580\u001b[0m     \u001b[1;32mif\u001b[0m \u001b[0mensure_min_samples\u001b[0m \u001b[1;33m>\u001b[0m \u001b[1;36m0\u001b[0m\u001b[1;33m:\u001b[0m\u001b[1;33m\u001b[0m\u001b[1;33m\u001b[0m\u001b[0m\n",
      "\u001b[1;32mC:\\ProgramData\\Miniconda3\\lib\\site-packages\\sklearn\\utils\\validation.py\u001b[0m in \u001b[0;36m_assert_all_finite\u001b[1;34m(X, allow_nan, msg_dtype)\u001b[0m\n\u001b[0;32m     63\u001b[0m     \u001b[1;32melif\u001b[0m \u001b[0mX\u001b[0m\u001b[1;33m.\u001b[0m\u001b[0mdtype\u001b[0m \u001b[1;33m==\u001b[0m \u001b[0mnp\u001b[0m\u001b[1;33m.\u001b[0m\u001b[0mdtype\u001b[0m\u001b[1;33m(\u001b[0m\u001b[1;34m'object'\u001b[0m\u001b[1;33m)\u001b[0m \u001b[1;32mand\u001b[0m \u001b[1;32mnot\u001b[0m \u001b[0mallow_nan\u001b[0m\u001b[1;33m:\u001b[0m\u001b[1;33m\u001b[0m\u001b[1;33m\u001b[0m\u001b[0m\n\u001b[0;32m     64\u001b[0m         \u001b[1;32mif\u001b[0m \u001b[0m_object_dtype_isnan\u001b[0m\u001b[1;33m(\u001b[0m\u001b[0mX\u001b[0m\u001b[1;33m)\u001b[0m\u001b[1;33m.\u001b[0m\u001b[0many\u001b[0m\u001b[1;33m(\u001b[0m\u001b[1;33m)\u001b[0m\u001b[1;33m:\u001b[0m\u001b[1;33m\u001b[0m\u001b[1;33m\u001b[0m\u001b[0m\n\u001b[1;32m---> 65\u001b[1;33m             \u001b[1;32mraise\u001b[0m \u001b[0mValueError\u001b[0m\u001b[1;33m(\u001b[0m\u001b[1;34m\"Input contains NaN\"\u001b[0m\u001b[1;33m)\u001b[0m\u001b[1;33m\u001b[0m\u001b[1;33m\u001b[0m\u001b[0m\n\u001b[0m\u001b[0;32m     66\u001b[0m \u001b[1;33m\u001b[0m\u001b[0m\n\u001b[0;32m     67\u001b[0m \u001b[1;33m\u001b[0m\u001b[0m\n",
      "\u001b[1;31mValueError\u001b[0m: Input contains NaN"
     ]
    }
   ],
   "source": [
    "# Entrenamiento del algoritmo \n",
    "clf.fit(x_train_processed, y_train)"
   ]
  },
  {
   "cell_type": "markdown",
   "metadata": {
    "slideshow": {
     "slide_type": "slide"
    }
   },
   "source": [
    "#### Conclusiones\n",
    "- Existen elementos para creer que la violencia digital que reciben las mujeres que desempeñan labores políticas es diferente a aquella que reciben los hombres. \n",
    "- La diferencia se debería a razones de _género_.\n",
    "- Esto no implica que los hombres no reciban violencia, ni tampoco que estén excentos de la violencia de género. \n",
    "- Más investigación es necesaria en este tema que ha sido poco estudiado."
   ]
  }
 ],
 "metadata": {
  "celltoolbar": "Slideshow",
  "kernelspec": {
   "display_name": "Python 3",
   "language": "python",
   "name": "python3"
  },
  "language_info": {
   "codemirror_mode": {
    "name": "ipython",
    "version": 3
   },
   "file_extension": ".py",
   "mimetype": "text/x-python",
   "name": "python",
   "nbconvert_exporter": "python",
   "pygments_lexer": "ipython3",
   "version": "3.7.4"
  }
 },
 "nbformat": 4,
 "nbformat_minor": 4
}
